{
 "cells": [
  {
   "cell_type": "code",
   "execution_count": 3,
   "id": "aa7d45ef",
   "metadata": {},
   "outputs": [],
   "source": [
    "import os"
   ]
  },
  {
   "cell_type": "code",
   "execution_count": 2,
   "id": "319d1a5e",
   "metadata": {},
   "outputs": [],
   "source": [
    "os.chdir('/Users/o050862/Desktop/Renaming Files/exerPythFileRename/Solars')"
   ]
  },
  {
   "cell_type": "code",
   "execution_count": 4,
   "id": "50be4d86",
   "metadata": {},
   "outputs": [
    {
     "name": "stdout",
     "output_type": "stream",
     "text": [
      "c:\\Users\\o050862\\Desktop\\Renaming Files\\exerPythFileRename\\Solars\n"
     ]
    }
   ],
   "source": [
    "print(os.getcwd())"
   ]
  },
  {
   "cell_type": "code",
   "execution_count": 5,
   "id": "7086f4cb",
   "metadata": {},
   "outputs": [
    {
     "name": "stdout",
     "output_type": "stream",
     "text": [
      "Earth - Our solar system - #4.txt\n",
      "Jupiter - Our solar system - #6.txt\n",
      "Mars - Our solar system - #5.txt\n",
      "Mercury - Our solar system - #2.txt\n",
      "Neptune - Our solar system - #8.txt\n",
      "Pluto - Our solar system - #10.txt\n",
      "Saturn - Our solar system - #7.txt\n",
      "The Sun - Our solar system - #1.txt\n",
      "Uranus - Our solar system - #9.txt\n",
      "Venus - Our solar system - #3.txt\n"
     ]
    }
   ],
   "source": [
    "for f in os.listdir():\n",
    "    print(f)"
   ]
  },
  {
   "cell_type": "code",
   "execution_count": 27,
   "id": "39a29fe7",
   "metadata": {},
   "outputs": [
    {
     "name": "stdout",
     "output_type": "stream",
     "text": [
      "('Venus - Our solar system - #3', '.txt')\n"
     ]
    }
   ],
   "source": [
    "print(os.path.splitext(f))\n"
   ]
  },
  {
   "cell_type": "code",
   "execution_count": 7,
   "id": "8db79108",
   "metadata": {},
   "outputs": [
    {
     "name": "stdout",
     "output_type": "stream",
     "text": [
      "Venus - Our solar system - #3\n"
     ]
    }
   ],
   "source": [
    "file_name, file_ext = os.path.splitext(f)\n",
    "print(file_name)"
   ]
  },
  {
   "cell_type": "code",
   "execution_count": 24,
   "id": "60707914",
   "metadata": {},
   "outputs": [
    {
     "name": "stdout",
     "output_type": "stream",
     "text": [
      "['Venus ', ' Our solar system ', ' #3']\n"
     ]
    }
   ],
   "source": [
    "f_name, f_ext = os.path.splitext(f)\n",
    "print(f_name.split('-'))"
   ]
  },
  {
   "cell_type": "code",
   "execution_count": 32,
   "id": "45cecd5b",
   "metadata": {},
   "outputs": [
    {
     "name": "stdout",
     "output_type": "stream",
     "text": [
      "3-Our solar system-Venus.txt\n"
     ]
    }
   ],
   "source": [
    "print ('{}-{}-{}{}' .format(f_num, f_course, f_title, f_ext))"
   ]
  },
  {
   "cell_type": "code",
   "execution_count": 36,
   "id": "681a5a66",
   "metadata": {},
   "outputs": [
    {
     "name": "stdout",
     "output_type": "stream",
     "text": [
      "Venus Our solar system #3\n"
     ]
    }
   ],
   "source": [
    "f_tiltle, f_course, f_num = f_name.split('-')\n",
    "f_title = f_title.strip()\n",
    "f_course = f_course.strip()\n",
    "f_num = f_num.strip()\n",
    "\n",
    "print(f_title,f_course, f_num)"
   ]
  },
  {
   "cell_type": "code",
   "execution_count": 37,
   "id": "6aa350bd",
   "metadata": {},
   "outputs": [
    {
     "name": "stdout",
     "output_type": "stream",
     "text": [
      "Venus Our solar system 3\n"
     ]
    }
   ],
   "source": [
    "f_title = f_title.strip()\n",
    "f_course = f_course.strip()\n",
    "f_num = f_num.strip()[1:]\n",
    "\n",
    "print(f_title,f_course, f_num)"
   ]
  },
  {
   "cell_type": "code",
   "execution_count": 38,
   "id": "8388e981",
   "metadata": {},
   "outputs": [
    {
     "name": "stdout",
     "output_type": "stream",
     "text": [
      "Venus Our solar system 00\n"
     ]
    }
   ],
   "source": [
    "f_title = f_title.strip()\n",
    "f_course = f_course.strip()\n",
    "f_num = f_num.strip()[1:].zfill(2)\n",
    "\n",
    "print(f_title,f_course, f_num)"
   ]
  },
  {
   "cell_type": "code",
   "execution_count": 40,
   "id": "3427cc7b",
   "metadata": {},
   "outputs": [],
   "source": [
    "new_name = '{}-{}{}'.format(f_num, f_title, f_ext)\n",
    "os.rename(f, new_name)"
   ]
  },
  {
   "cell_type": "code",
   "execution_count": null,
   "id": "a2411834",
   "metadata": {},
   "outputs": [],
   "source": []
  }
 ],
 "metadata": {
  "interpreter": {
   "hash": "7d6fc7d4b7ff0d9bb56085144128fe42dcf966b90630ba735c878f82e9246345"
  },
  "kernelspec": {
   "display_name": "Python 3",
   "language": "python",
   "name": "python3"
  },
  "language_info": {
   "codemirror_mode": {
    "name": "ipython",
    "version": 3
   },
   "file_extension": ".py",
   "mimetype": "text/x-python",
   "name": "python",
   "nbconvert_exporter": "python",
   "pygments_lexer": "ipython3",
   "version": "3.8.8"
  }
 },
 "nbformat": 4,
 "nbformat_minor": 5
}
