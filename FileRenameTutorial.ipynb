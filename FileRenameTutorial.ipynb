{
 "cells": [
  {
   "cell_type": "code",
   "execution_count": 40,
   "source": [
    "import os;"
   ],
   "outputs": [],
   "metadata": {}
  },
  {
   "cell_type": "code",
   "execution_count": null,
   "source": [
    "os.chdir('C:\\Users\\o050862\\Desktop\\Renaming Files\\exerPythFileRename\\Solars')"
   ],
   "outputs": [],
   "metadata": {}
  },
  {
   "cell_type": "code",
   "execution_count": 41,
   "source": [
    "for f  in os.listdir():\r\n",
    "    print (f)"
   ],
   "outputs": [
    {
     "output_type": "stream",
     "name": "stdout",
     "text": [
      "00-00-.txt\n",
      "00-02-.txt\n",
      "00-03-.txt\n",
      "00-04-.txt\n",
      "00-05-.txt\n",
      "00-06-.txt\n",
      "00-07-.txt\n",
      "00-08-.txt\n",
      "00-09-.txt\n",
      "00-10-.txt\n"
     ]
    }
   ],
   "metadata": {}
  },
  {
   "cell_type": "code",
   "execution_count": 42,
   "source": [
    "for f  in os.listdir():\r\n",
    "    f_name, f_ext = os.path.splitext(f)\r\n",
    "    f_title, f_course, f_num =f_name.split('-')\r\n",
    "\r\n",
    "    f_title = f_title.strip ()\r\n",
    "    f_course = f_course.strip ()\r\n",
    "    f_num = f_num.strip ()[1:].zfill(2)\r\n",
    "\r\n",
    "    print('[{}-{}-{}-{}'.format(f_num, f_course, f_title, f_ext))"
   ],
   "outputs": [
    {
     "output_type": "stream",
     "name": "stdout",
     "text": [
      "[00-00-00-.txt\n",
      "[00-02-00-.txt\n",
      "[00-03-00-.txt\n",
      "[00-04-00-.txt\n",
      "[00-05-00-.txt\n",
      "[00-06-00-.txt\n",
      "[00-07-00-.txt\n",
      "[00-08-00-.txt\n",
      "[00-09-00-.txt\n",
      "[00-10-00-.txt\n"
     ]
    }
   ],
   "metadata": {}
  },
  {
   "cell_type": "code",
   "execution_count": null,
   "source": [
    "for f  in os.listdir():\r\n",
    "    f_name, f_ext = os.path.splitext(f)\r\n",
    "    f_title, f_course, f_num =f_name.split('-')\r\n",
    "\r\n",
    "    f_title = f_title.strip ()\r\n",
    "    f_course = f_course.strip ()\r\n",
    "    f_num = f_num.strip ()[1:].zfill(2)\r\n",
    "\r\n",
    "    new_name = '{}-{}-{}'.format(f_num, f_title, f_ext)\r\n",
    "\r\n",
    "    os.rename(f, new_name)"
   ],
   "outputs": [],
   "metadata": {}
  }
 ],
 "metadata": {
  "kernelspec": {
   "name": "python3",
   "display_name": "Python 3.8.8 64-bit ('base': conda)"
  },
  "language_info": {
   "codemirror_mode": {
    "name": "ipython",
    "version": 3
   },
   "file_extension": ".py",
   "mimetype": "text/x-python",
   "name": "python",
   "nbconvert_exporter": "python",
   "pygments_lexer": "ipython3",
   "version": "3.8.8"
  },
  "interpreter": {
   "hash": "7d6fc7d4b7ff0d9bb56085144128fe42dcf966b90630ba735c878f82e9246345"
  }
 },
 "nbformat": 4,
 "nbformat_minor": 5
}